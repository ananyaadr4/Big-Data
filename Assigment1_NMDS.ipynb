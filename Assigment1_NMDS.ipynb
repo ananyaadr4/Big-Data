{
 "cells": [
  {
   "cell_type": "markdown",
   "id": "0cf76e95",
   "metadata": {},
   "source": [
    "Fitting the Line using the data points with the help of Least Squre Method"
   ]
  },
  {
   "cell_type": "code",
   "execution_count": 1,
   "id": "801f7bd9",
   "metadata": {},
   "outputs": [],
   "source": [
    "import pandas as pd\n",
    "from matplotlib import pyplot as plt\n",
    "import numpy as np"
   ]
  },
  {
   "cell_type": "code",
   "execution_count": 2,
   "id": "3e8b94d0",
   "metadata": {},
   "outputs": [
    {
     "data": {
      "image/png": "[encoded data removed]",
      "text/plain": [
       "<Figure size 432x288 with 1 Axes>"
      ]
     },
     "metadata": {
      "needs_background": "light"
     },
     "output_type": "display_data"
    }
   ],
   "source": [
    "i = [1,2,3,4,5,6,7,8,9,10,11]\n",
    "x = [10.0,10.1,10.2,10.3,10.4,10.5,10.6,10.7,10.8,10.9,11.0]\n",
    "y = [0,0,1.0,1.5,2.5,3.5,4.5,5.0,6.5,8.0,10.0]\n",
    "\n",
    "dic = {'I':i,'X':x,'Y':y}\n",
    "data = pd.DataFrame(dic)\n",
    "\n",
    "xy = data['X']*data['Y']\n",
    "data = data.assign(XY = xy)\n",
    "\n",
    "xsqr = data['X']*data['X']\n",
    "data = data.assign(Xsqr = xsqr)\n",
    "\n",
    "w = int(len(data)*sum(data['XY']) - sum(data['Y'])*sum(data['X'])  )\n",
    "f = int((len(data)*sum(data['Xsqr']) - (sum(data['X']))**2))\n",
    "a = w/f\n",
    "\n",
    "b = (sum(data['Y']) - a*sum(data['X']))/len(data)\n",
    "\n",
    "h = []\n",
    "for i in range (len(data)):\n",
    "    k = a*data['X'][i] + b\n",
    "    h.append(k)\n",
    "    \n",
    "plt.plot(x,h)\n",
    "plt.scatter(x,y,color = 'Red')\n",
    "\n",
    "plt.show()"
   ]
  },
  {
   "cell_type": "code",
   "execution_count": 3,
   "id": "ff1dd44e",
   "metadata": {},
   "outputs": [
    {
     "data": {
      "text/plain": [
       "123986.22500000855"
      ]
     },
     "execution_count": 3,
     "metadata": {},
     "output_type": "execute_result"
    }
   ],
   "source": [
    "def matrix_norm(matrix):\n",
    "    norm = 0.0\n",
    "    for row in matrix:\n",
    "        for element in row:\n",
    "            norm += element**2\n",
    "\n",
    "    return norm**0.5\n",
    "\n",
    "\n",
    "x = [10.0,10.1,10.2,10.3,10.4,10.5,10.6,10.7,10.8,10.9,11.0]\n",
    "arr = np.vstack((x,np.ones(len(x)))).T\n",
    "arr\n",
    "\n",
    "inverse_arr = np.linalg.pinv(arr)\n",
    "arr_1 = np.dot(arr.T,arr)\n",
    "arr_1\n",
    "\n",
    "normA = matrix_norm(arr_1)\n",
    "normA1 = matrix_norm(np.linalg.inv(arr_1))\n",
    "\n",
    "condition_number = normA*normA1\n",
    "condition_number\n"
   ]
  },
  {
   "cell_type": "markdown",
   "id": "73c70ba7",
   "metadata": {},
   "source": [
    "2\n"
   ]
  },
  {
   "cell_type": "code",
   "execution_count": 4,
   "id": "fe57f14e",
   "metadata": {},
   "outputs": [
    {
     "name": "stdout",
     "output_type": "stream",
     "text": [
      "Exact Solution: [1.         1.00000013 0.99999725 1.00002475 0.99988305 1.00031898\n",
      " 0.99948016 1.00049946 0.99973912 1.00005711]\n",
      "Exact Solution: [ 0.95321246  1.17773606  1.85479919 -1.15819006  2.01947008 -0.5306545\n",
      "  0.92113273  4.61445658  1.41789232 -1.22370918]\n",
      "||X - X^||: 5.19544100636393\n",
      "||A^(-1)||: 20222.456462504917\n"
     ]
    }
   ],
   "source": [
    "def gauss_elimination(a_matrix, b_matrix):\n",
    "    if a_matrix.shape[0] != a_matrix.shape[1]:\n",
    "        print('Error: Square matrix not given!')\n",
    "        return None\n",
    "    \n",
    "    if b_matrix.ndim != 1 or b_matrix.shape[0] != a_matrix.shape[0]:\n",
    "        print('Error: Constant vector incorrectly sized')\n",
    "        return None\n",
    "    \n",
    "    n = len(b_matrix)\n",
    "    m = n-1\n",
    "    i = 0\n",
    "    x = np.zeros(n)\n",
    "    \n",
    "    augmented_matrix = np.concatenate((a_matrix, b_matrix.reshape(-1, 1)), axis=1).astype(float)\n",
    "\n",
    "    while i < n:\n",
    "        if augmented_matrix[i][i] == 0.0:\n",
    "            print('Divide by Zero error')\n",
    "            return None\n",
    "        \n",
    "        for j in range(i+1, n):\n",
    "            scaling_factor = augmented_matrix[j][i] / augmented_matrix[i][i]\n",
    "            augmented_matrix[j] = augmented_matrix[j] - (scaling_factor * augmented_matrix[i])\n",
    "         \n",
    "        i = i + 1\n",
    "        \n",
    "    x[m] = augmented_matrix[m][n] / augmented_matrix[m][m]\n",
    "    \n",
    "    for k in range(n-2, -1, -1):\n",
    "        x[k] = augmented_matrix[k][n]\n",
    "        \n",
    "        for j in range(k+1, n):\n",
    "            x[k] = x[k] - (augmented_matrix[k][j] * x[j])\n",
    "        \n",
    "        x[k] = x[k] / augmented_matrix[k][k]\n",
    "    \n",
    "    return x\n",
    "\n",
    "def norm_difference(x_exact, x_approx):\n",
    "    return np.linalg.norm(x_exact - x_approx)\n",
    "\n",
    "def round_off_matrix(matrix, decimals=3):\n",
    "    return np.round(matrix, decimals)\n",
    "\n",
    "# Given matrix A\n",
    "A = np.array([\n",
    "    [1/1, 1/2, 1/3, 1/4, 1/5, 1/6, 1/7, 1/8, 1/9, 1/10],\n",
    "    [1/2, 1/3, 1/4, 1/5, 1/6, 1/7, 1/8, 1/9, 1/10, 1/11],\n",
    "    [1/3, 1/4, 1/5, 1/6, 1/7, 1/8, 1/9, 1/10, 1/11, 1/12],\n",
    "    [1/4, 1/5, 1/6, 1/7, 1/8, 1/9, 1/10, 1/11, 1/12, 1/13],\n",
    "    [1/5, 1/6, 1/7, 1/8, 1/9, 1/10, 1/11, 1/12, 1/13, 1/14],\n",
    "    [1/6, 1/7, 1/8, 1/9, 1/10, 1/11, 1/12, 1/13, 1/14, 1/15],\n",
    "    [1/7, 1/8, 1/9, 1/10, 1/11, 1/12, 1/13, 1/14, 1/15, 1/16],\n",
    "    [1/8, 1/9, 1/10, 1/11, 1/12, 1/13, 1/14, 1/15, 1/16, 1/17],\n",
    "    [1/9, 1/10, 1/11, 1/12, 1/13, 1/14, 1/15, 1/16, 1/17, 1/18],\n",
    "    [1/10, 1/11, 1/12, 1/13, 1/14, 1/15, 1/16, 1/17, 1/18, 1/19]\n",
    "])\n",
    "\n",
    "# Exact solution\n",
    "B = np.sum(A, axis=1)\n",
    "x_exact = gauss_elimination(A,B)\n",
    "\n",
    "x_approx = gauss_elimination(round_off_matrix(A), round_off_matrix(B))\n",
    "\n",
    "# Norm of the difference\n",
    "#norm_diff = norm_difference(X, X)\n",
    "norm_diff = norm_difference(x_exact, x_approx)\n",
    "# Norm of the inverse matrix\n",
    "norm_inverse = np.linalg.norm(np.linalg.inv(round_off_matrix(A)))\n",
    "\n",
    "print(f\"Exact Solution: {x_exact}\")\n",
    "print(f\"Exact Solution: {x_approx}\")\n",
    "print(f\"||X - X^||: {norm_diff}\")\n",
    "print(f\"||A^(-1)||: {norm_inverse}\")\n"
   ]
  },
  {
   "cell_type": "markdown",
   "id": "da8b6cec",
   "metadata": {},
   "source": [
    "3"
   ]
  },
  {
   "cell_type": "code",
   "execution_count": 5,
   "id": "0adb4259",
   "metadata": {},
   "outputs": [
    {
     "name": "stdout",
     "output_type": "stream",
     "text": [
      "[[1.         0.5        0.33333333 0.25       0.2       ]\n",
      " [0.5        0.33333333 0.25       0.2        0.16666667]\n",
      " [0.33333333 0.25       0.2        0.16666667 0.14285714]\n",
      " [0.25       0.2        0.16666667 0.14285714 0.125     ]\n",
      " [0.2        0.16666667 0.14285714 0.125      0.11111111]]\n",
      "[2.28333333 1.45       1.09285714 0.88452381 0.74563492]\n"
     ]
    }
   ],
   "source": [
    "A1 = np.array([\n",
    "    [1/1, 1/2, 1/3, 1/4, 1/5],\n",
    "    [1/2, 1/3, 1/4, 1/5, 1/6],\n",
    "    [1/3, 1/4, 1/5, 1/6, 1/7],\n",
    "    [1/4, 1/5, 1/6, 1/7, 1/8],\n",
    "    [1/5, 1/6, 1/7, 1/8, 1/9]\n",
    "])\n",
    "\n",
    "print(A1)\n",
    "\n",
    "# Right-hand side vector b\n",
    "B1 = np.sum(A1, axis=1)\n",
    "\n",
    "print(B1)\n",
    "\n",
    "B2 = B1 + 0.05"
   ]
  },
  {
   "cell_type": "code",
   "execution_count": 6,
   "id": "d0f16c9a",
   "metadata": {},
   "outputs": [
    {
     "name": "stdout",
     "output_type": "stream",
     "text": [
      "[1. 1. 1. 1. 1.]\n"
     ]
    }
   ],
   "source": [
    "first = gauss_elimination(A1,B1)\n",
    "print(first)"
   ]
  },
  {
   "cell_type": "code",
   "execution_count": 7,
   "id": "89a61a56",
   "metadata": {},
   "outputs": [
    {
     "name": "stdout",
     "output_type": "stream",
     "text": [
      "[  1.25  -5.    32.5  -55.    32.5 ]\n"
     ]
    }
   ],
   "source": [
    "second = gauss_elimination(A1,B2)\n",
    "print(second)"
   ]
  },
  {
   "cell_type": "code",
   "execution_count": 8,
   "id": "b40fa072",
   "metadata": {},
   "outputs": [
    {
     "data": {
      "text/plain": [
       "array([  0.25,  -6.  ,  31.5 , -56.  ,  31.5 ])"
      ]
     },
     "execution_count": 8,
     "metadata": {},
     "output_type": "execute_result"
    }
   ],
   "source": [
    "difference = second - first\n",
    "difference"
   ]
  },
  {
   "cell_type": "code",
   "execution_count": 9,
   "id": "608076c8",
   "metadata": {},
   "outputs": [
    {
     "name": "stdout",
     "output_type": "stream",
     "text": [
      "Condition Number 480849.11699433636\n"
     ]
    }
   ],
   "source": [
    "A2_norm = (np.sum(A1**2))**0.5\n",
    "A2_invnorm = (np.sum(np.linalg.inv(A1)**2))**0.5\n",
    "condition_number2 = A2_norm*A2_invnorm\n",
    "print(\"Condition Number\", condition_number2)"
   ]
  },
  {
   "cell_type": "code",
   "execution_count": null,
   "id": "a61d9d6a",
   "metadata": {},
   "outputs": [],
   "source": []
  },
  {
   "cell_type": "code",
   "execution_count": null,
   "id": "e4088a5b",
   "metadata": {},
   "outputs": [],
   "source": []
  }
 ],
 "metadata": {
  "kernelspec": {
   "display_name": "Python 3 (ipykernel)",
   "language": "python",
   "name": "python3"
  },
  "language_info": {
   "codemirror_mode": {
    "name": "ipython",
    "version": 3
   },
   "file_extension": ".py",
   "mimetype": "text/x-python",
   "name": "python",
   "nbconvert_exporter": "python",
   "pygments_lexer": "ipython3",
   "version": "3.9.7"
  }
 },
 "nbformat": 4,
 "nbformat_minor": 5
}
